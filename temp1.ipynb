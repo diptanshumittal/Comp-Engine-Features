{
 "metadata": {
  "language_info": {
   "codemirror_mode": {
    "name": "ipython",
    "version": 3
   },
   "file_extension": ".py",
   "mimetype": "text/x-python",
   "name": "python",
   "nbconvert_exporter": "python",
   "pygments_lexer": "ipython3",
   "version": 3
  },
  "orig_nbformat": 2
 },
 "nbformat": 4,
 "nbformat_minor": 2,
 "cells": [
  {
   "cell_type": "code",
   "execution_count": null,
   "metadata": {},
   "outputs": [],
   "source": [
    "from pymongo import MongoClient\n",
    "from random import randint\n",
    "import pandas as pd\n",
    "import json\n",
    "import numpy as np\n",
    "\n",
    "\n",
    "keywords = pd.read_csv('hctsa_features.csv')\n",
    "hctsa = pd.read_csv('hctsa_datamatrix.csv')"
   ]
  },
  {
   "cell_type": "code",
   "execution_count": null,
   "metadata": {},
   "outputs": [],
   "source": [
    "fsdfdsfdsfds\n",
    "fsdfdsfdsfdsfds\n",
    "fsdfdsfdsfdsfdssdf\n",
    "sd\n",
    "fsdfdsfdsfdsfdssdfsd\n",
    "fsdfdsfdsfdsfdssdffsdf\n",
    "ds\n",
    "fsdfdsfdsfdsfdssdfds\n",
    "fsdfdsfdsfdsfdssdfds\n",
    "fsdfdsfdsfdsfdssdf"
   ]
  }
 ]
}